{
  "nbformat": 4,
  "nbformat_minor": 0,
  "metadata": {
    "colab": {
      "provenance": []
    },
    "kernelspec": {
      "name": "python3",
      "display_name": "Python 3"
    },
    "language_info": {
      "name": "python"
    }
  },
  "cells": [
    {
      "cell_type": "code",
      "execution_count": null,
      "metadata": {
        "id": "T-zKGNs46Wq0"
      },
      "outputs": [],
      "source": [
        "import pandas as pd\n",
        "import numpy as np\n",
        "from sklearn.model_selection import train_test_split\n",
        "from sklearn.neighbors import KNeighborsClassifier\n",
        "from sklearn.metrics import accuracy_score, confusion_matrix, classification_report\n",
        "from sklearn.naive_bayes import GaussianNB\n",
        "from sklearn.naive_bayes import MultinomialNB"
      ]
    },
    {
      "cell_type": "code",
      "source": [
        "file_test = pd.read_csv(r'/content/winequality-red.csv', sep = \";\")\n",
        "print(\"So luong phan tu trong tap du lieu\", len(file_test)) #so luong phan tu\n",
        "np.unique(file_test) #Liet ke cac gia tri khac nhau cua bien\n",
        "file_test.value_counts()  #Liet ke so luong va cac gia tri khac nhau cua bien"
      ],
      "metadata": {
        "colab": {
          "base_uri": "https://localhost:8080/",
          "height": 524
        },
        "id": "tdyLEqRT8SYh",
        "outputId": "91170b22-382d-46e2-997a-4ccde1e405cb"
      },
      "execution_count": null,
      "outputs": [
        {
          "output_type": "stream",
          "name": "stdout",
          "text": [
            "So luong phan tu trong tap du lieu 1599\n"
          ]
        },
        {
          "output_type": "execute_result",
          "data": {
            "text/plain": [
              "fixed acidity  volatile acidity  citric acid  residual sugar  chlorides  free sulfur dioxide  total sulfur dioxide  density  pH    sulphates  alcohol  quality\n",
              "7.5            0.510             0.02         1.7             0.084      13.0                 31.0                  0.99538  3.36  0.54       10.5     6          4\n",
              "6.7            0.460             0.24         1.7             0.077      18.0                 34.0                  0.99480  3.39  0.60       10.6     6          4\n",
              "7.2            0.360             0.46         2.1             0.074      24.0                 44.0                  0.99534  3.40  0.85       11.0     7          4\n",
              "               0.695             0.13         2.0             0.076      12.0                 20.0                  0.99546  3.29  0.54       10.1     5          4\n",
              "8.3            0.650             0.10         2.9             0.089      17.0                 40.0                  0.99803  3.29  0.55       9.5      5          3\n",
              "                                                                                                                                                                 ..\n",
              "7.5            0.430             0.30         2.2             0.062      6.0                  12.0                  0.99495  3.44  0.72       11.5     7          1\n",
              "               0.420             0.32         2.7             0.067      7.0                  25.0                  0.99628  3.24  0.44       10.4     5          1\n",
              "                                 0.31         1.6             0.080      15.0                 42.0                  0.99780  3.31  0.64       9.0      5          1\n",
              "               0.410             0.15         3.7             0.104      29.0                 94.0                  0.99786  3.14  0.58       9.1      5          1\n",
              "15.9           0.360             0.65         7.5             0.096      22.0                 71.0                  0.99760  2.98  0.84       14.9     5          1\n",
              "Name: count, Length: 1359, dtype: int64"
            ],
            "text/html": [
              "<div>\n",
              "<style scoped>\n",
              "    .dataframe tbody tr th:only-of-type {\n",
              "        vertical-align: middle;\n",
              "    }\n",
              "\n",
              "    .dataframe tbody tr th {\n",
              "        vertical-align: top;\n",
              "    }\n",
              "\n",
              "    .dataframe thead th {\n",
              "        text-align: right;\n",
              "    }\n",
              "</style>\n",
              "<table border=\"1\" class=\"dataframe\">\n",
              "  <thead>\n",
              "    <tr style=\"text-align: right;\">\n",
              "      <th></th>\n",
              "      <th></th>\n",
              "      <th></th>\n",
              "      <th></th>\n",
              "      <th></th>\n",
              "      <th></th>\n",
              "      <th></th>\n",
              "      <th></th>\n",
              "      <th></th>\n",
              "      <th></th>\n",
              "      <th></th>\n",
              "      <th></th>\n",
              "      <th>count</th>\n",
              "    </tr>\n",
              "    <tr>\n",
              "      <th>fixed acidity</th>\n",
              "      <th>volatile acidity</th>\n",
              "      <th>citric acid</th>\n",
              "      <th>residual sugar</th>\n",
              "      <th>chlorides</th>\n",
              "      <th>free sulfur dioxide</th>\n",
              "      <th>total sulfur dioxide</th>\n",
              "      <th>density</th>\n",
              "      <th>pH</th>\n",
              "      <th>sulphates</th>\n",
              "      <th>alcohol</th>\n",
              "      <th>quality</th>\n",
              "      <th></th>\n",
              "    </tr>\n",
              "  </thead>\n",
              "  <tbody>\n",
              "    <tr>\n",
              "      <th>7.5</th>\n",
              "      <th>0.510</th>\n",
              "      <th>0.02</th>\n",
              "      <th>1.7</th>\n",
              "      <th>0.084</th>\n",
              "      <th>13.0</th>\n",
              "      <th>31.0</th>\n",
              "      <th>0.99538</th>\n",
              "      <th>3.36</th>\n",
              "      <th>0.54</th>\n",
              "      <th>10.5</th>\n",
              "      <th>6</th>\n",
              "      <td>4</td>\n",
              "    </tr>\n",
              "    <tr>\n",
              "      <th>6.7</th>\n",
              "      <th>0.460</th>\n",
              "      <th>0.24</th>\n",
              "      <th>1.7</th>\n",
              "      <th>0.077</th>\n",
              "      <th>18.0</th>\n",
              "      <th>34.0</th>\n",
              "      <th>0.99480</th>\n",
              "      <th>3.39</th>\n",
              "      <th>0.60</th>\n",
              "      <th>10.6</th>\n",
              "      <th>6</th>\n",
              "      <td>4</td>\n",
              "    </tr>\n",
              "    <tr>\n",
              "      <th rowspan=\"2\" valign=\"top\">7.2</th>\n",
              "      <th>0.360</th>\n",
              "      <th>0.46</th>\n",
              "      <th>2.1</th>\n",
              "      <th>0.074</th>\n",
              "      <th>24.0</th>\n",
              "      <th>44.0</th>\n",
              "      <th>0.99534</th>\n",
              "      <th>3.40</th>\n",
              "      <th>0.85</th>\n",
              "      <th>11.0</th>\n",
              "      <th>7</th>\n",
              "      <td>4</td>\n",
              "    </tr>\n",
              "    <tr>\n",
              "      <th>0.695</th>\n",
              "      <th>0.13</th>\n",
              "      <th>2.0</th>\n",
              "      <th>0.076</th>\n",
              "      <th>12.0</th>\n",
              "      <th>20.0</th>\n",
              "      <th>0.99546</th>\n",
              "      <th>3.29</th>\n",
              "      <th>0.54</th>\n",
              "      <th>10.1</th>\n",
              "      <th>5</th>\n",
              "      <td>4</td>\n",
              "    </tr>\n",
              "    <tr>\n",
              "      <th>8.3</th>\n",
              "      <th>0.650</th>\n",
              "      <th>0.10</th>\n",
              "      <th>2.9</th>\n",
              "      <th>0.089</th>\n",
              "      <th>17.0</th>\n",
              "      <th>40.0</th>\n",
              "      <th>0.99803</th>\n",
              "      <th>3.29</th>\n",
              "      <th>0.55</th>\n",
              "      <th>9.5</th>\n",
              "      <th>5</th>\n",
              "      <td>3</td>\n",
              "    </tr>\n",
              "    <tr>\n",
              "      <th>...</th>\n",
              "      <th>...</th>\n",
              "      <th>...</th>\n",
              "      <th>...</th>\n",
              "      <th>...</th>\n",
              "      <th>...</th>\n",
              "      <th>...</th>\n",
              "      <th>...</th>\n",
              "      <th>...</th>\n",
              "      <th>...</th>\n",
              "      <th>...</th>\n",
              "      <th>...</th>\n",
              "      <td>...</td>\n",
              "    </tr>\n",
              "    <tr>\n",
              "      <th rowspan=\"4\" valign=\"top\">7.5</th>\n",
              "      <th>0.430</th>\n",
              "      <th>0.30</th>\n",
              "      <th>2.2</th>\n",
              "      <th>0.062</th>\n",
              "      <th>6.0</th>\n",
              "      <th>12.0</th>\n",
              "      <th>0.99495</th>\n",
              "      <th>3.44</th>\n",
              "      <th>0.72</th>\n",
              "      <th>11.5</th>\n",
              "      <th>7</th>\n",
              "      <td>1</td>\n",
              "    </tr>\n",
              "    <tr>\n",
              "      <th rowspan=\"2\" valign=\"top\">0.420</th>\n",
              "      <th>0.32</th>\n",
              "      <th>2.7</th>\n",
              "      <th>0.067</th>\n",
              "      <th>7.0</th>\n",
              "      <th>25.0</th>\n",
              "      <th>0.99628</th>\n",
              "      <th>3.24</th>\n",
              "      <th>0.44</th>\n",
              "      <th>10.4</th>\n",
              "      <th>5</th>\n",
              "      <td>1</td>\n",
              "    </tr>\n",
              "    <tr>\n",
              "      <th>0.31</th>\n",
              "      <th>1.6</th>\n",
              "      <th>0.080</th>\n",
              "      <th>15.0</th>\n",
              "      <th>42.0</th>\n",
              "      <th>0.99780</th>\n",
              "      <th>3.31</th>\n",
              "      <th>0.64</th>\n",
              "      <th>9.0</th>\n",
              "      <th>5</th>\n",
              "      <td>1</td>\n",
              "    </tr>\n",
              "    <tr>\n",
              "      <th>0.410</th>\n",
              "      <th>0.15</th>\n",
              "      <th>3.7</th>\n",
              "      <th>0.104</th>\n",
              "      <th>29.0</th>\n",
              "      <th>94.0</th>\n",
              "      <th>0.99786</th>\n",
              "      <th>3.14</th>\n",
              "      <th>0.58</th>\n",
              "      <th>9.1</th>\n",
              "      <th>5</th>\n",
              "      <td>1</td>\n",
              "    </tr>\n",
              "    <tr>\n",
              "      <th>15.9</th>\n",
              "      <th>0.360</th>\n",
              "      <th>0.65</th>\n",
              "      <th>7.5</th>\n",
              "      <th>0.096</th>\n",
              "      <th>22.0</th>\n",
              "      <th>71.0</th>\n",
              "      <th>0.99760</th>\n",
              "      <th>2.98</th>\n",
              "      <th>0.84</th>\n",
              "      <th>14.9</th>\n",
              "      <th>5</th>\n",
              "      <td>1</td>\n",
              "    </tr>\n",
              "  </tbody>\n",
              "</table>\n",
              "<p>1359 rows × 1 columns</p>\n",
              "</div><br><label><b>dtype:</b> int64</label>"
            ]
          },
          "metadata": {},
          "execution_count": 64
        }
      ]
    },
    {
      "cell_type": "code",
      "source": [
        "x = file_test.drop('quality', axis=1)\n",
        "y = file_test['quality']\n",
        "x_train, x_test, y_train, y_test = train_test_split(x, y, test_size=1/5, random_state=42)\n",
        "print(\"SL ptu trong tap test: \", len(x_test))\n",
        "unique_test_labels = np.unique(y_test)\n",
        "print(\"Cac nhan khac nhau trong tap test:\", unique_test_labels)\n",
        "print(\"SL tung nhan trong test test:\")\n",
        "print(y_test.value_counts())"
      ],
      "metadata": {
        "colab": {
          "base_uri": "https://localhost:8080/"
        },
        "id": "Q4G7jzUY_OKW",
        "outputId": "55ce4293-2cd6-4ca4-b3c8-aacc32b1a980"
      },
      "execution_count": null,
      "outputs": [
        {
          "output_type": "stream",
          "name": "stdout",
          "text": [
            "SL ptu trong tap test:  320\n",
            "Cac nhan khac nhau trong tap test: [3 4 5 6 7 8]\n",
            "SL tung nhan trong test test:\n",
            "quality\n",
            "6    132\n",
            "5    130\n",
            "7     42\n",
            "4     10\n",
            "8      5\n",
            "3      1\n",
            "Name: count, dtype: int64\n"
          ]
        }
      ]
    },
    {
      "cell_type": "code",
      "source": [
        "Mohinh_KNN = KNeighborsClassifier(n_neighbors = 9)\n",
        "Mohinh_KNN.fit(x_train, y_train)\n",
        "y_pred = Mohinh_KNN.predict(x_test)\n",
        "y_test\n",
        "print(\"Accuracy is: \", accuracy_score(y_test, y_pred)*100)\n",
        "print(\"Confusion matrix: \\n\", confusion_matrix(y_test, y_pred))"
      ],
      "metadata": {
        "colab": {
          "base_uri": "https://localhost:8080/"
        },
        "id": "5FC8sj46Ca1a",
        "outputId": "5588c365-2295-4338-8b7d-9d83cd497f23"
      },
      "execution_count": null,
      "outputs": [
        {
          "output_type": "stream",
          "name": "stdout",
          "text": [
            "Accuracy is:  48.96810506566604\n",
            "Confusion matrix: \n",
            " [[  0   0   2   0   0   0]\n",
            " [  0   2   4  12   1   0]\n",
            " [  0   1 141  73   4   0]\n",
            " [  0   0  96 109  10   0]\n",
            " [  0   0  23  39   9   0]\n",
            " [  0   0   2   5   0   0]]\n"
          ]
        }
      ]
    },
    {
      "cell_type": "code",
      "source": [
        "print(\"Gia tri nhan thuc te va du doan cho 7 ptu dau tien trong tap test\")\n",
        "for i in range(7):\n",
        "    print(f\"Ptu {i + 1}: Nhan thuc te = {y_test.iloc[i]}, Nhan du doan = {y_pred[i]}\")\n",
        "y_test_7 = y_test.iloc[:7]\n",
        "y_pred_7 = y_pred[:7]\n",
        "accuracy_first_7 = accuracy_score(y_test_7, y_pred_7)\n",
        "print(\"Do chinh xac tong the cho 7 phan tu dau tien\", accuracy_first_7*100)\n"
      ],
      "metadata": {
        "colab": {
          "base_uri": "https://localhost:8080/"
        },
        "id": "E1K297BYD_jq",
        "outputId": "f92041f4-5ecf-436a-9e42-b204d5e2f6a0"
      },
      "execution_count": null,
      "outputs": [
        {
          "output_type": "stream",
          "name": "stdout",
          "text": [
            "Gia tri nhan thuc te va du doan cho 7 ptu dau tien trong tap test\n",
            "Ptu 1: Nhan thuc te = 6, Nhan du doan = 6\n",
            "Ptu 2: Nhan thuc te = 5, Nhan du doan = 5\n",
            "Ptu 3: Nhan thuc te = 6, Nhan du doan = 6\n",
            "Ptu 4: Nhan thuc te = 5, Nhan du doan = 6\n",
            "Ptu 5: Nhan thuc te = 6, Nhan du doan = 6\n",
            "Ptu 6: Nhan thuc te = 5, Nhan du doan = 5\n",
            "Ptu 7: Nhan thuc te = 5, Nhan du doan = 5\n",
            "Do chinh xac tong the cho 7 phan tu dau tien 85.71428571428571\n"
          ]
        }
      ]
    },
    {
      "cell_type": "code",
      "source": [
        "model_nb = GaussianNB()\n",
        "model_nb.fit(x_train, y_train)\n",
        "y_pred_nb = model_nb.predict(x_test)\n",
        "accuracy_nb = accuracy_score(y_test, y_pred_nb)\n",
        "print(\"Do chinh xac tong the:\", accuracy_nb * 100)\n",
        "print(\"Do chinh xac cho tung phan lop:\")\n",
        "print(classification_report(y_test, y_pred_nb))\n"
      ],
      "metadata": {
        "colab": {
          "base_uri": "https://localhost:8080/"
        },
        "id": "Uu3aPKn0FHYp",
        "outputId": "77693d5e-4882-43a0-cc8c-209812c528a3"
      },
      "execution_count": null,
      "outputs": [
        {
          "output_type": "stream",
          "name": "stdout",
          "text": [
            "Do chinh xac tong the: 55.00000000000001\n",
            "Do chinh xac cho tung phan lop:\n",
            "              precision    recall  f1-score   support\n",
            "\n",
            "           3       0.00      0.00      0.00         1\n",
            "           4       0.17      0.10      0.12        10\n",
            "           5       0.65      0.65      0.65       130\n",
            "           6       0.53      0.52      0.52       132\n",
            "           7       0.43      0.50      0.46        42\n",
            "           8       0.00      0.00      0.00         5\n",
            "\n",
            "    accuracy                           0.55       320\n",
            "   macro avg       0.30      0.30      0.29       320\n",
            "weighted avg       0.54      0.55      0.55       320\n",
            "\n"
          ]
        }
      ]
    },
    {
      "cell_type": "code",
      "source": [
        "accuracy_knn = accuracy_score(y_test, y_pred_knn)\n",
        "accuracy_nb = accuracy_score(y_test, y_pred_nb)\n",
        "if accuracy_knn > accuracy_nb:\n",
        "    print(\"Mo hinh KNN co do chinh xac cao hon mo hinh Bayes: \", (accuracy_knn - accuracy_nb)*100)\n",
        "else:\n",
        "    print(\"Mo hinh Bayes co do chinh xac cao hon mo hinh KNN : \", (accuracy_nb - accuracy_knn)*100)\n"
      ],
      "metadata": {
        "colab": {
          "base_uri": "https://localhost:8080/"
        },
        "id": "tEFnMvZlG13R",
        "outputId": "4c813758-70f8-45f6-83fb-210f87adde37"
      },
      "execution_count": null,
      "outputs": [
        {
          "output_type": "stream",
          "name": "stdout",
          "text": [
            "Mo hinh Bayes co do chinh xac cao hon mo hinh KNN :  5.816135084427771\n"
          ]
        }
      ]
    }
  ]
}