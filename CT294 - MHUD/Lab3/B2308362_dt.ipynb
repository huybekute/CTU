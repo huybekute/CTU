{
  "nbformat": 4,
  "nbformat_minor": 0,
  "metadata": {
    "colab": {
      "provenance": []
    },
    "kernelspec": {
      "name": "python3",
      "display_name": "Python 3"
    },
    "language_info": {
      "name": "python"
    }
  },
  "cells": [
    {
      "cell_type": "markdown",
      "source": [
        "Bai1"
      ],
      "metadata": {
        "id": "HPh__mlsQG9t"
      }
    },
    {
      "cell_type": "code",
      "execution_count": null,
      "metadata": {
        "id": "jv5ra1uKFJk7"
      },
      "outputs": [],
      "source": [
        "import pandas as pd\n",
        "from sklearn.tree import DecisionTreeClassifier\n",
        "from sklearn.metrics import accuracy_score\n",
        "from sklearn.model_selection import KFold\n",
        "from sklearn.metrics import classification_report\n",
        "from sklearn.neighbors import KNeighborsClassifier\n",
        "from sklearn.naive_bayes import GaussianNB"
      ]
    },
    {
      "cell_type": "code",
      "source": [
        "file_test = pd.read_csv(r'/content/winequality-white.csv', sep = ';')\n",
        "print(f'rows {file_test.shape[0]}')\n",
        "print(f'columns {file_test.shape[1]}')\n",
        "print(f\"cac thuoc tinh {file_test.columns}\")\n",
        "print(f\"gia tri cac nhan {file_test['quality'].unique()}\")"
      ],
      "metadata": {
        "colab": {
          "base_uri": "https://localhost:8080/"
        },
        "id": "VWjooDi7Feid",
        "outputId": "59f45372-bbfe-4597-d9c3-04dcbbbe8d48"
      },
      "execution_count": null,
      "outputs": [
        {
          "output_type": "stream",
          "name": "stdout",
          "text": [
            "rows 4898\n",
            "columns 12\n",
            "cac thuoc tinh Index(['fixed acidity', 'volatile acidity', 'citric acid', 'residual sugar',\n",
            "       'chlorides', 'free sulfur dioxide', 'total sulfur dioxide', 'density',\n",
            "       'pH', 'sulphates', 'alcohol', 'quality'],\n",
            "      dtype='object')\n",
            "gia tri cac nhan [6 5 7 8 4 3 9]\n"
          ]
        }
      ]
    },
    {
      "cell_type": "code",
      "source": [
        "kf = KFold(n_splits=50, shuffle=True, random_state=42)\n",
        "num = file_test.shape[0]\n",
        "test_size = num // 50\n",
        "train_size = num - test_size\n",
        "print(f\"sl ptu trong tap test: {test_size}\")\n",
        "print(f\"sl ptu trong tap train: {train_size}\")"
      ],
      "metadata": {
        "colab": {
          "base_uri": "https://localhost:8080/"
        },
        "id": "660JV_uSJv8s",
        "outputId": "9c54de26-3b95-4adc-af22-3d0958b5d251"
      },
      "execution_count": null,
      "outputs": [
        {
          "output_type": "stream",
          "name": "stdout",
          "text": [
            "sl ptu trong tap test: 97\n",
            "sl ptu trong tap train: 4801\n"
          ]
        }
      ]
    },
    {
      "cell_type": "code",
      "source": [
        "accuracies = []\n",
        "for train_index, test_index in kf.split(file_test.drop(columns=['quality'])):\n",
        "    X_train = file_test.drop(columns=['quality']).iloc[train_index]\n",
        "    X_test = file_test.drop(columns=['quality']).iloc[test_index]\n",
        "    y_train = file_test['quality'].iloc[train_index]\n",
        "    y_test = file_test['quality'].iloc[test_index]\n",
        "    model = DecisionTreeClassifier(random_state=42)\n",
        "    model.fit(X_train, y_train)\n",
        "    y_pred = model.predict(X_test)\n",
        "\n",
        "    accuracy = accuracy_score(y_test, y_pred)\n",
        "    accuracies.append(accuracy)\n",
        "\n",
        "print(f\"accuaracy tb: {sum(accuracies) / len(accuracies):.4f}\")"
      ],
      "metadata": {
        "colab": {
          "base_uri": "https://localhost:8080/"
        },
        "id": "_soTQu1gLX6u",
        "outputId": "05949015-99c5-477e-854a-f3bd10687ccd"
      },
      "execution_count": null,
      "outputs": [
        {
          "output_type": "stream",
          "name": "stdout",
          "text": [
            "accuaracy tb: 0.6323\n"
          ]
        }
      ]
    },
    {
      "cell_type": "code",
      "source": [
        "X = file_test.drop(columns=['quality'])\n",
        "y = file_test['quality']\n",
        "\n",
        "for fold_idx, (train_index, test_index) in enumerate(kf.split(X)):\n",
        "    X_train, X_test = X.iloc[train_index], X.iloc[test_index]\n",
        "    y_train, y_test = y.iloc[train_index], y.iloc[test_index]\n",
        "    model = DecisionTreeClassifier(random_state=42)\n",
        "    model.fit(X_train, y_train)\n",
        "    y_pred = model.predict(X_test)\n",
        "    if fold_idx == 50 - 1:\n",
        "        report = classification_report(y_test, y_pred, output_dict=True)\n",
        "        print(classification_report(y_test, y_pred))\n",
        "        precision_per_class = {k: v['precision'] for k, v in report.items() if k.isdigit()}\n",
        "        print(\"do chinh xac cho tung phan lop\")\n",
        "        for label, precision in precision_per_class.items():\n",
        "            print(f\"phan lop{label}: {precision:.4f}\")\n"
      ],
      "metadata": {
        "colab": {
          "base_uri": "https://localhost:8080/"
        },
        "id": "2sAjdzWlOoqd",
        "outputId": "732f6fa7-4f2b-444b-d8b2-90a25d535a37"
      },
      "execution_count": null,
      "outputs": [
        {
          "output_type": "stream",
          "name": "stdout",
          "text": [
            "              precision    recall  f1-score   support\n",
            "\n",
            "           4       0.00      0.00      0.00         5\n",
            "           5       0.70      0.63      0.67        30\n",
            "           6       0.70      0.71      0.71        42\n",
            "           7       0.59      0.76      0.67        17\n",
            "           8       0.67      0.67      0.67         3\n",
            "\n",
            "    accuracy                           0.66        97\n",
            "   macro avg       0.53      0.56      0.54        97\n",
            "weighted avg       0.64      0.66      0.65        97\n",
            "\n",
            "do chinh xac cho tung phan lop\n",
            "phan lop4: 0.0000\n",
            "phan lop5: 0.7037\n",
            "phan lop6: 0.6977\n",
            "phan lop7: 0.5909\n",
            "phan lop8: 0.6667\n"
          ]
        }
      ]
    },
    {
      "cell_type": "code",
      "source": [
        "average_accuracy = sum(accuracies) / len(accuracies)\n",
        "\n",
        "print(f\"do chinh xac tb sau 50 lan lap {round(average_accuracy, 4)}\", )"
      ],
      "metadata": {
        "colab": {
          "base_uri": "https://localhost:8080/"
        },
        "id": "1ZHyzHZ8PaAU",
        "outputId": "7e8f99ae-c5b4-4d65-db48-7b99a2826b7e"
      },
      "execution_count": null,
      "outputs": [
        {
          "output_type": "stream",
          "name": "stdout",
          "text": [
            "do chinh xac tb sau 50 lan lap 0.6323\n"
          ]
        }
      ]
    },
    {
      "cell_type": "code",
      "source": [
        "K = 60\n",
        "kf = KFold(n_splits=K, shuffle=True, random_state=42)\n",
        "accuracies_dt = []\n",
        "accuracies_knn = []\n",
        "accuracies_nb = []\n",
        "\n",
        "for train_index, test_index in kf.split(X):\n",
        "    X_train, X_test = X.iloc[train_index], X.iloc[test_index]\n",
        "    y_train, y_test = y.iloc[train_index], y.iloc[test_index]\n",
        "\n",
        "    dt_model = DecisionTreeClassifier(random_state=42)\n",
        "    dt_model.fit(X_train, y_train)\n",
        "    y_pred_dt = dt_model.predict(X_test)\n",
        "    accuracies_dt.append(accuracy_score(y_test, y_pred_dt))\n",
        "\n",
        "\n",
        "    knn_model = KNeighborsClassifier(n_neighbors=5)  # Sử dụng K=5 mặc định\n",
        "    knn_model.fit(X_train, y_train)\n",
        "    y_pred_knn = knn_model.predict(X_test)\n",
        "    accuracies_knn.append(accuracy_score(y_test, y_pred_knn))\n",
        "\n",
        "\n",
        "    nb_model = GaussianNB()\n",
        "    nb_model.fit(X_train, y_train)\n",
        "    y_pred_nb = nb_model.predict(X_test)\n",
        "    accuracies_nb.append(accuracy_score(y_test, y_pred_nb))\n",
        "\n",
        "avg_accuracy_dt = sum(accuracies_dt) / len(accuracies_dt)\n",
        "avg_accuracy_knn = sum(accuracies_knn) / len(accuracies_knn)\n",
        "avg_accuracy_nb = sum(accuracies_nb) / len(accuracies_nb)\n",
        "\n",
        "print(f\"do chinh xac tb cho dt: {avg_accuracy_dt:.4f}\")\n",
        "print(f\"do chinh xac tb cho knn: {avg_accuracy_knn:.4f}\")\n",
        "print(f\"do chinh xac tb cho bayes: {avg_accuracy_nb}\")\n"
      ],
      "metadata": {
        "colab": {
          "base_uri": "https://localhost:8080/"
        },
        "id": "9eyz8W23QMAV",
        "outputId": "eefc3635-1025-478f-dcd0-668946bb1eba"
      },
      "execution_count": null,
      "outputs": [
        {
          "output_type": "stream",
          "name": "stdout",
          "text": [
            "do chinh xac tb cho dt: 0.6364\n",
            "do chinh xac tb cho knn: 0.4961\n",
            "do chinh xac tb cho bayes: 0.4424721469436917\n"
          ]
        }
      ]
    },
    {
      "cell_type": "markdown",
      "source": [
        "Bai 2"
      ],
      "metadata": {
        "id": "-26tIphoRa2l"
      }
    },
    {
      "cell_type": "code",
      "source": [
        "\n",
        "data = {\n",
        "    \"Chiều cao\": [180, 167, 136, 174, 141],\n",
        "    \"Độ dài tóc\": [15, 42, 35, 15, 28],\n",
        "    \"Giọng nói\": [0, 1, 1, 0, 1],\n",
        "    \"Nhãn\": [0, 1, 1, 0, 1]\n",
        "}\n",
        "\n",
        "df = pd.DataFrame(data)\n",
        "\n",
        "X = df[[\"Chiều cao\", \"Độ dài tóc\", \"Giọng nói\"]]\n",
        "y = df[\"Nhãn\"]\n",
        "\n",
        "model = DecisionTreeClassifier(criterion=\"entropy\", random_state=42)\n",
        "model.fit(X, y)\n",
        "\n",
        "tree_rules = export_text(model, feature_names=list(X.columns))\n",
        "print(tree_rules)\n"
      ],
      "metadata": {
        "colab": {
          "base_uri": "https://localhost:8080/"
        },
        "id": "I2QCh4NARjf_",
        "outputId": "a37ef9c5-f914-4600-98a0-8350a839e859"
      },
      "execution_count": null,
      "outputs": [
        {
          "output_type": "stream",
          "name": "stdout",
          "text": [
            "|--- Độ dài tóc <= 21.50\n",
            "|   |--- class: 0\n",
            "|--- Độ dài tóc >  21.50\n",
            "|   |--- class: 1\n",
            "\n"
          ]
        }
      ]
    },
    {
      "cell_type": "code",
      "source": [
        "new_data = pd.DataFrame({\"Chiều cao\": [135], \"Độ dài tóc\": [39], \"Giọng nói\": [1]})\n",
        "prediction = model.predict(new_data)\n",
        "print(f\"Phần tử mới được dự đoán là: {prediction[0]}\")\n"
      ],
      "metadata": {
        "colab": {
          "base_uri": "https://localhost:8080/"
        },
        "id": "vmyomajQSevu",
        "outputId": "be3e93da-acfc-4e1d-cd8e-1d81bce9accb"
      },
      "execution_count": null,
      "outputs": [
        {
          "output_type": "stream",
          "name": "stdout",
          "text": [
            "Phần tử mới được dự đoán là: 1\n"
          ]
        }
      ]
    }
  ]
}